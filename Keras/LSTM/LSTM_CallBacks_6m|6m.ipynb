{
 "cells": [
  {
   "cell_type": "markdown",
   "metadata": {},
   "source": [
    "# Optimal Optimizer\n",
    "Comparing SGD vs Adam Optimizer\n",
    "\n",
    "### Model\n",
    "- model = LSTM\n",
    "- batch_size = 32\n",
    "- epochs = 100\n",
    "- loss = mse\n",
    "\n",
    "\n",
    "### Data\n",
    "- time frame: 6 months | 6 months\n",
    "- features: all of them (110)\n",
    "- target: EDSS_6...EDSS_222\n",
    "- imputation \n",
    "    - target: interpolation (trailing ends for extrapolation)\n",
    "    - features: zero-imputation\n",
    "- time steps: exhaustive (37)"
   ]
  },
  {
   "cell_type": "code",
   "execution_count": 3,
   "metadata": {},
   "outputs": [],
   "source": [
    "from __future__ import print_function\n",
    "import pandas as pd\n",
    "import numpy as np\n",
    "import time\n",
    "from sklearn.model_selection import train_test_split\n",
    "from sklearn import preprocessing\n",
    "import sklearn as sk\n",
    "from matplotlib import pyplot as plt\n",
    "sklearn "
   ]
  },
  {
   "cell_type": "code",
   "execution_count": 4,
   "metadata": {},
   "outputs": [],
   "source": [
    "def select_columns(col_list, n_months):\n",
    "    \n",
    "    \"\"\"takes in a list of column names and number of visits starting at 0\n",
    "    returns column list time-stepped and dovetailed\"\"\" \n",
    "    \n",
    "    return dovetail_names(*[time_step_names(i, n_months) for i in col_list])\n",
    "        \n",
    "def time_step_names(name, n_months):\n",
    "\n",
    "    return [(name + '_%d' % (j+1)) for j in range(-1,n_months*6, 6)]\n",
    "\n",
    "def dovetail_names(*kwargs):\n",
    "    zipped = zip(*kwargs)\n",
    "    l = []\n",
    "    for i in zipped:\n",
    "        for j in i:\n",
    "            l.append(j)\n",
    "    return l\n",
    "\n",
    "def stretch_input(Xtr, n_inputs, time_steps, pot):\n",
    "\n",
    "    \"\"\"Xtr_fill is empty 3D numpy array where we extend length of patient observation times t\n",
    "    pot stands for Patient Observation Time. We only need to do this for our X input\"\"\"\n",
    "    \n",
    "    Xtr_fill = np.zeros(shape=[Xtr.shape[0],time_steps,n_inputs*pot] , dtype = object) \n",
    "\n",
    "    for subject in range(Xtr.shape[0]):\n",
    "    \n",
    "        for i in range(time_steps):\n",
    "\n",
    "            temp = np.concatenate([Xtr[subject][i],Xtr[subject][i+1]]) # changed for pot = 3\n",
    "            Xtr_fill[subject][i] = temp\n",
    "            \n",
    "    return Xtr_fill\n"
   ]
  },
  {
   "cell_type": "markdown",
   "metadata": {},
   "source": [
    "# IMPORT DATA & DEFINE N OF TIME STEPS"
   ]
  },
  {
   "cell_type": "code",
   "execution_count": 6,
   "metadata": {},
   "outputs": [
    {
     "name": "stdout",
     "output_type": "stream",
     "text": [
      "The RNN window will slide 37 times\n",
      "The input length of the training data will be 1 time slices, separated by 6 month intervals\n",
      "There will be 110 per time step\n"
     ]
    }
   ],
   "source": [
    "X = pd.read_csv(\"../../data_interpolation/X_6_months|6_months_exhaustive.csv\", index_col = 0)\n",
    "y = pd.read_csv(\"../../data_interpolation/y_6_months|6_months_exhaustive.csv\", index_col = 0)\n",
    "\n",
    "n_time_steps = len(y.columns)\n",
    "n_inputs_pure = X.columns.tolist().index(\"EDSS_0\")+1\n",
    "\n",
    "pot = 1\n",
    "print(\"The RNN window will slide\", n_time_steps, \"times\")\n",
    "print(\"The input length of the training data will be\", pot, \"time slices, separated by 6 month intervals\")\n",
    "print(\"There will be\", n_inputs_pure, \"per time step\")"
   ]
  },
  {
   "cell_type": "markdown",
   "metadata": {},
   "source": [
    "# Split into train and test"
   ]
  },
  {
   "cell_type": "code",
   "execution_count": 35,
   "metadata": {},
   "outputs": [
    {
     "name": "stdout",
     "output_type": "stream",
     "text": [
      "X reshaped is (355, 37, 110)\n",
      "y reshaped is (355, 37, 1)\n",
      "X reshaped is (153, 37, 110)\n",
      "y reshaped is (153, 37, 1)\n"
     ]
    }
   ],
   "source": [
    "X_train, X_test, y_train, y_test = train_test_split(X, y, test_size=0.30, random_state=1)\n",
    "\n",
    "X_train_reshaped = X_train.values.reshape(-1, n_time_steps, n_inputs_pure) # extra time step for stretch\n",
    "y_train_reshaped = y_train.values.reshape(-1, n_time_steps, 1)\n",
    "print(\"X reshaped is \" + str(X_train_reshaped.shape))\n",
    "print(\"y reshaped is \" + str(y_train_reshaped.shape))\n",
    "\n",
    "X_test_reshaped = X_test.values.reshape(-1, n_time_steps, n_inputs_pure)\n",
    "y_test_reshaped = y_test.values.reshape(-1, n_time_steps, 1)\n",
    "print(\"X reshaped is \" + str(X_test_reshaped.shape))\n",
    "print(\"y reshaped is \" + str(y_test_reshaped.shape))\n",
    "\n",
    "y_train = y_train_reshaped.astype(float)\n",
    "y_test = y_test_reshaped.astype(float)\n",
    "X_train = X_train_reshaped.astype(float)\n",
    "X_test = X_test_reshaped.astype(float)"
   ]
  },
  {
   "cell_type": "markdown",
   "metadata": {},
   "source": [
    "# Set values for the neuron"
   ]
  },
  {
   "cell_type": "code",
   "execution_count": 8,
   "metadata": {},
   "outputs": [
    {
     "name": "stdout",
     "output_type": "stream",
     "text": [
      "110 inputs per time step ( 37 ) comprising 1 time slice, 110 features each\n"
     ]
    }
   ],
   "source": [
    "n_inputs = n_inputs_pure * pot\n",
    "\n",
    "n_units = 64\n",
    "\n",
    "n_output = 1\n",
    "\n",
    "learning_rate = 0.01\n",
    "\n",
    "print(n_inputs, \"inputs per time step (\",n_time_steps,\") comprising\", pot, \"time slice,\", n_inputs_pure, \"features each\")"
   ]
  },
  {
   "cell_type": "code",
   "execution_count": 14,
   "metadata": {},
   "outputs": [],
   "source": [
    "from keras.callbacks import ModelCheckpoint, EarlyStopping\n",
    "import keras.layers as L\n",
    "import keras.models as M\n",
    "from keras import backend as K\n",
    "import tensorflow as tf"
   ]
  },
  {
   "cell_type": "markdown",
   "metadata": {},
   "source": [
    "### Initialize Model"
   ]
  },
  {
   "cell_type": "code",
   "execution_count": 16,
   "metadata": {},
   "outputs": [
    {
     "name": "stdout",
     "output_type": "stream",
     "text": [
      "Train on 355 samples, validate on 153 samples\n",
      "Epoch 1/100\n",
      "355/355 [==============================] - 3s 8ms/step - loss: 3.9435 - val_loss: 3.4079\n",
      "Epoch 2/100\n",
      "355/355 [==============================] - 1s 3ms/step - loss: 1.3478 - val_loss: 2.1093\n",
      "Epoch 3/100\n",
      "355/355 [==============================] - 1s 3ms/step - loss: 0.8038 - val_loss: 1.5915\n",
      "Epoch 4/100\n",
      "355/355 [==============================] - 1s 3ms/step - loss: 0.7755 - val_loss: 1.2705\n",
      "Epoch 5/100\n",
      "355/355 [==============================] - 1s 3ms/step - loss: 0.5686 - val_loss: 1.0904\n",
      "Epoch 6/100\n",
      "355/355 [==============================] - 1s 3ms/step - loss: 0.5177 - val_loss: 1.0166\n",
      "Epoch 7/100\n",
      "355/355 [==============================] - 1s 3ms/step - loss: 0.4742 - val_loss: 0.9966\n",
      "Epoch 8/100\n",
      "355/355 [==============================] - 1s 4ms/step - loss: 0.4664 - val_loss: 0.8506\n",
      "Epoch 9/100\n",
      "355/355 [==============================] - 1s 3ms/step - loss: 0.4601 - val_loss: 0.8087\n",
      "Epoch 10/100\n",
      "355/355 [==============================] - 1s 4ms/step - loss: 0.4290 - val_loss: 0.9184\n",
      "Epoch 11/100\n",
      "355/355 [==============================] - 1s 3ms/step - loss: 0.4575 - val_loss: 0.7320\n",
      "Epoch 12/100\n",
      "355/355 [==============================] - 1s 3ms/step - loss: 0.3813 - val_loss: 0.6847\n",
      "Epoch 13/100\n",
      "355/355 [==============================] - 1s 3ms/step - loss: 0.3698 - val_loss: 0.7647\n",
      "Epoch 14/100\n",
      "355/355 [==============================] - 1s 4ms/step - loss: 0.3997 - val_loss: 0.6377\n",
      "Epoch 15/100\n",
      "355/355 [==============================] - 1s 4ms/step - loss: 0.3603 - val_loss: 0.6134\n",
      "Epoch 16/100\n",
      "355/355 [==============================] - 1s 4ms/step - loss: 0.3473 - val_loss: 0.6059\n",
      "Epoch 17/100\n",
      "355/355 [==============================] - 1s 4ms/step - loss: 0.3411 - val_loss: 0.5985\n",
      "Epoch 18/100\n",
      "355/355 [==============================] - 1s 3ms/step - loss: 0.3574 - val_loss: 0.5611\n",
      "Epoch 19/100\n",
      "355/355 [==============================] - 1s 4ms/step - loss: 0.3206 - val_loss: 0.5436\n",
      "Epoch 20/100\n",
      "355/355 [==============================] - 1s 4ms/step - loss: 0.3347 - val_loss: 0.5861\n",
      "Epoch 21/100\n",
      "355/355 [==============================] - 1s 4ms/step - loss: 0.3426 - val_loss: 0.4901\n",
      "Epoch 22/100\n",
      "355/355 [==============================] - 1s 3ms/step - loss: 0.3008 - val_loss: 0.4844\n",
      "Epoch 23/100\n",
      "355/355 [==============================] - 1s 4ms/step - loss: 0.2949 - val_loss: 0.4835\n",
      "Epoch 24/100\n",
      "355/355 [==============================] - 2s 5ms/step - loss: 0.3166 - val_loss: 0.4801\n",
      "Epoch 25/100\n",
      "355/355 [==============================] - 2s 4ms/step - loss: 0.2948 - val_loss: 0.4557\n",
      "Epoch 26/100\n",
      "355/355 [==============================] - 1s 4ms/step - loss: 0.2975 - val_loss: 0.4480\n",
      "Epoch 27/100\n",
      "355/355 [==============================] - 1s 4ms/step - loss: 0.2868 - val_loss: 0.4947\n",
      "Epoch 28/100\n",
      "355/355 [==============================] - 1s 4ms/step - loss: 0.3272 - val_loss: 0.4365\n",
      "Epoch 29/100\n",
      "355/355 [==============================] - 1s 4ms/step - loss: 0.2742 - val_loss: 0.4230\n",
      "Epoch 30/100\n",
      "355/355 [==============================] - 1s 3ms/step - loss: 0.2768 - val_loss: 0.5101\n",
      "Epoch 31/100\n",
      "355/355 [==============================] - 1s 4ms/step - loss: 0.2925 - val_loss: 0.4221\n",
      "Epoch 32/100\n",
      "355/355 [==============================] - 1s 4ms/step - loss: 0.2634 - val_loss: 0.3975\n",
      "Epoch 33/100\n",
      "355/355 [==============================] - 1s 3ms/step - loss: 0.2732 - val_loss: 0.4271\n",
      "Epoch 34/100\n",
      "355/355 [==============================] - 2s 4ms/step - loss: 0.2607 - val_loss: 0.4578\n",
      "Epoch 35/100\n",
      "355/355 [==============================] - 1s 4ms/step - loss: 0.2955 - val_loss: 0.3856\n",
      "Epoch 36/100\n",
      "355/355 [==============================] - 1s 4ms/step - loss: 0.2521 - val_loss: 0.3837\n",
      "Epoch 37/100\n",
      "355/355 [==============================] - 1s 3ms/step - loss: 0.2557 - val_loss: 0.4014\n",
      "Epoch 38/100\n",
      "355/355 [==============================] - 1s 4ms/step - loss: 0.2585 - val_loss: 0.4145\n",
      "Epoch 39/100\n",
      "355/355 [==============================] - 1s 4ms/step - loss: 0.2556 - val_loss: 0.3889\n",
      "Epoch 40/100\n",
      "355/355 [==============================] - 1s 4ms/step - loss: 0.2433 - val_loss: 0.4444\n",
      "Epoch 41/100\n",
      "355/355 [==============================] - 1s 4ms/step - loss: 0.2612 - val_loss: 0.4333\n",
      "Epoch 42/100\n",
      "355/355 [==============================] - 1s 4ms/step - loss: 0.2600 - val_loss: 0.3844\n",
      "Epoch 43/100\n",
      "355/355 [==============================] - 1s 3ms/step - loss: 0.2540 - val_loss: 0.4308\n",
      "Epoch 44/100\n",
      "355/355 [==============================] - 2s 4ms/step - loss: 0.2679 - val_loss: 0.5401\n",
      "Epoch 45/100\n",
      "355/355 [==============================] - 1s 4ms/step - loss: 0.3015 - val_loss: 0.3750\n",
      "Epoch 46/100\n",
      "355/355 [==============================] - 1s 3ms/step - loss: 0.2364 - val_loss: 0.3688\n",
      "Epoch 47/100\n",
      "355/355 [==============================] - 1s 4ms/step - loss: 0.2379 - val_loss: 0.3969\n",
      "Epoch 48/100\n",
      "355/355 [==============================] - 1s 4ms/step - loss: 0.2369 - val_loss: 0.3621\n",
      "Epoch 49/100\n",
      "355/355 [==============================] - 1s 4ms/step - loss: 0.2377 - val_loss: 0.3612\n",
      "Epoch 50/100\n",
      "355/355 [==============================] - 1s 3ms/step - loss: 0.2345 - val_loss: 0.3679\n",
      "Epoch 51/100\n",
      "355/355 [==============================] - 2s 4ms/step - loss: 0.2322 - val_loss: 0.3583\n",
      "Epoch 52/100\n",
      "355/355 [==============================] - 1s 4ms/step - loss: 0.2240 - val_loss: 0.3571\n",
      "Epoch 53/100\n",
      "355/355 [==============================] - 1s 3ms/step - loss: 0.2184 - val_loss: 0.3500\n",
      "Epoch 54/100\n",
      "355/355 [==============================] - 2s 4ms/step - loss: 0.2305 - val_loss: 0.4127\n",
      "Epoch 55/100\n",
      "355/355 [==============================] - 2s 4ms/step - loss: 0.2999 - val_loss: 0.3779\n",
      "Epoch 56/100\n",
      "355/355 [==============================] - 2s 4ms/step - loss: 0.2261 - val_loss: 0.4090\n",
      "Epoch 57/100\n",
      "355/355 [==============================] - 2s 4ms/step - loss: 0.2320 - val_loss: 0.3792\n",
      "Epoch 58/100\n",
      "355/355 [==============================] - 2s 4ms/step - loss: 0.2153 - val_loss: 0.3975\n",
      "Epoch 59/100\n",
      "355/355 [==============================] - 1s 4ms/step - loss: 0.2197 - val_loss: 0.3440\n",
      "Epoch 60/100\n",
      "355/355 [==============================] - 2s 4ms/step - loss: 0.2086 - val_loss: 0.3414\n",
      "Epoch 61/100\n",
      "355/355 [==============================] - 1s 4ms/step - loss: 0.2038 - val_loss: 0.3434\n",
      "Epoch 62/100\n",
      "355/355 [==============================] - 1s 4ms/step - loss: 0.2045 - val_loss: 0.3440\n",
      "Epoch 63/100\n",
      "355/355 [==============================] - 1s 4ms/step - loss: 0.2023 - val_loss: 0.3590\n",
      "Epoch 64/100\n",
      "355/355 [==============================] - 1s 4ms/step - loss: 0.2166 - val_loss: 0.3382\n",
      "Epoch 65/100\n",
      "355/355 [==============================] - 2s 4ms/step - loss: 0.1970 - val_loss: 0.3301\n",
      "Epoch 66/100\n",
      "355/355 [==============================] - 1s 4ms/step - loss: 0.1961 - val_loss: 0.3427\n",
      "Epoch 67/100\n",
      "355/355 [==============================] - 1s 4ms/step - loss: 0.2004 - val_loss: 0.3846\n",
      "Epoch 68/100\n",
      "355/355 [==============================] - 1s 4ms/step - loss: 0.2006 - val_loss: 0.3339\n",
      "Epoch 69/100\n",
      "355/355 [==============================] - 1s 4ms/step - loss: 0.2375 - val_loss: 0.3716\n",
      "Epoch 70/100\n",
      "355/355 [==============================] - 1s 4ms/step - loss: 0.2195 - val_loss: 0.3523\n",
      "Epoch 71/100\n",
      "355/355 [==============================] - 1s 4ms/step - loss: 0.1919 - val_loss: 0.3518\n",
      "Epoch 72/100\n",
      "355/355 [==============================] - 2s 4ms/step - loss: 0.1889 - val_loss: 0.3354\n",
      "Epoch 73/100\n",
      "355/355 [==============================] - 2s 4ms/step - loss: 0.1867 - val_loss: 0.3909\n",
      "Epoch 74/100\n",
      "355/355 [==============================] - 1s 4ms/step - loss: 0.1935 - val_loss: 0.4032\n",
      "Epoch 75/100\n",
      "355/355 [==============================] - 1s 4ms/step - loss: 0.1959 - val_loss: 0.3613\n",
      "Epoch 76/100\n",
      "355/355 [==============================] - 2s 4ms/step - loss: 0.1927 - val_loss: 0.4003\n",
      "Epoch 77/100\n",
      "355/355 [==============================] - 1s 4ms/step - loss: 0.1967 - val_loss: 0.3356\n",
      "Epoch 78/100\n",
      "355/355 [==============================] - 1s 3ms/step - loss: 0.1846 - val_loss: 0.3427\n",
      "Epoch 79/100\n",
      "355/355 [==============================] - 1s 4ms/step - loss: 0.1947 - val_loss: 0.3344\n",
      "Epoch 80/100\n",
      "355/355 [==============================] - 2s 4ms/step - loss: 0.1792 - val_loss: 0.3349\n"
     ]
    },
    {
     "name": "stdout",
     "output_type": "stream",
     "text": [
      "Epoch 81/100\n",
      "355/355 [==============================] - 1s 4ms/step - loss: 0.1888 - val_loss: 0.3728\n",
      "Epoch 82/100\n",
      "355/355 [==============================] - 1s 4ms/step - loss: 0.1798 - val_loss: 0.3403\n",
      "Epoch 83/100\n",
      "355/355 [==============================] - 2s 4ms/step - loss: 0.1738 - val_loss: 0.3616\n",
      "Epoch 84/100\n",
      "355/355 [==============================] - 1s 4ms/step - loss: 0.1998 - val_loss: 0.4431\n",
      "Epoch 85/100\n",
      "355/355 [==============================] - 1s 3ms/step - loss: 0.2127 - val_loss: 0.3524\n",
      "Epoch 86/100\n",
      "355/355 [==============================] - 2s 4ms/step - loss: 0.1759 - val_loss: 0.3625\n",
      "Epoch 87/100\n",
      "355/355 [==============================] - 1s 4ms/step - loss: 0.1772 - val_loss: 0.3849\n",
      "Epoch 88/100\n",
      "355/355 [==============================] - 1s 4ms/step - loss: 0.1838 - val_loss: 0.3665\n",
      "Epoch 89/100\n",
      "355/355 [==============================] - 1s 4ms/step - loss: 0.1741 - val_loss: 0.3755\n",
      "Epoch 90/100\n",
      "355/355 [==============================] - 1s 4ms/step - loss: 0.1746 - val_loss: 0.3352\n",
      "Epoch 91/100\n",
      "355/355 [==============================] - 1s 4ms/step - loss: 0.1689 - val_loss: 0.3419\n",
      "Epoch 92/100\n",
      "355/355 [==============================] - 2s 4ms/step - loss: 0.1624 - val_loss: 0.3566\n",
      "Epoch 93/100\n",
      "355/355 [==============================] - 1s 4ms/step - loss: 0.2107 - val_loss: 0.3687\n",
      "Epoch 94/100\n",
      "355/355 [==============================] - 2s 4ms/step - loss: 0.1713 - val_loss: 0.3404\n",
      "Epoch 95/100\n",
      "355/355 [==============================] - 2s 4ms/step - loss: 0.1613 - val_loss: 0.3456\n",
      "Epoch 96/100\n",
      "355/355 [==============================] - 1s 4ms/step - loss: 0.1774 - val_loss: 0.3457\n",
      "Epoch 97/100\n",
      "355/355 [==============================] - 1s 4ms/step - loss: 0.1661 - val_loss: 0.3582\n",
      "Epoch 98/100\n",
      "355/355 [==============================] - 2s 4ms/step - loss: 0.1579 - val_loss: 0.3382\n",
      "Epoch 99/100\n",
      "355/355 [==============================] - 2s 4ms/step - loss: 0.1566 - val_loss: 0.3466\n",
      "Epoch 100/100\n",
      "355/355 [==============================] - 2s 4ms/step - loss: 0.1563 - val_loss: 0.4276\n"
     ]
    }
   ],
   "source": [
    "tf.reset_default_graph()\n",
    "\n",
    "model = M.Sequential()\n",
    "\n",
    "mcp_save = ModelCheckpoint('.mdl_wts.hdf5', save_best_only=True, monitor='val_loss', mode='min')\n",
    "\n",
    "model.add(L.LSTM(n_units, input_shape=(n_time_steps, n_inputs), return_sequences=True))\n",
    "\n",
    "model.add(L.Dense(n_output, activation='relu'))\n",
    "\n",
    "model.compile(optimizer = 'nadam', loss = 'mean_squared_error')\n",
    "\n",
    "history = model.fit(X_train, y_train, batch_size = 32, \n",
    "                              epochs=100, validation_data=(X_test, y_test), \n",
    "                              shuffle=True,\n",
    "                   callbacks=[mcp_save])"
   ]
  },
  {
   "cell_type": "markdown",
   "metadata": {},
   "source": [
    "### Load Best Model (Weights)"
   ]
  },
  {
   "cell_type": "code",
   "execution_count": 43,
   "metadata": {},
   "outputs": [
    {
     "data": {
      "text/plain": [
       "0.33005176280327214"
      ]
     },
     "execution_count": 43,
     "metadata": {},
     "output_type": "execute_result"
    }
   ],
   "source": [
    "from sklearn.metrics import mean_squared_error as mse\n",
    "\n",
    "model.load_weights(filepath = '.mdl_wts.hdf5') # Load Best Model \n",
    "y_pred = model.predict(X_test)\n",
    "mse(y_pred.reshape(-1, 1), y_test.reshape(-1,1)) # reshape from 3D into 2D arrays "
   ]
  },
  {
   "cell_type": "markdown",
   "metadata": {},
   "source": [
    "### Plot Results Graph"
   ]
  },
  {
   "cell_type": "code",
   "execution_count": 44,
   "metadata": {},
   "outputs": [
    {
     "name": "stdout",
     "output_type": "stream",
     "text": [
      "Best Train Scores\n",
      "Score: 0.33005177565649446\n",
      "Epoch: 64\n"
     ]
    },
    {
     "data": {
      "image/png": "[encoded data removed]",
      "text/plain": [
       "<Figure size 432x288 with 1 Axes>"
      ]
     },
     "metadata": {},
     "output_type": "display_data"
    }
   ],
   "source": [
    "mse_test = history.__dict__['history']['val_loss']\n",
    "mse_train = history.__dict__['history']['loss']\n",
    "params = history.__dict__['params']\n",
    "\n",
    "plt.plot(mse_train)\n",
    "plt.plot(mse_test)\n",
    "plt.xlabel('Epoch')\n",
    "plt.ylabel('Loss (MSE)')\n",
    "plt.legend(['train','test'])\n",
    "\n",
    "print(\"Best Train Scores\")\n",
    "print(\"Score:\", np.min(mse_test))\n",
    "print(\"Epoch:\",np.argmin(mse_test))"
   ]
  }
 ],
 "metadata": {
  "kernelspec": {
   "display_name": "Python 3",
   "language": "python",
   "name": "python3"
  },
  "language_info": {
   "codemirror_mode": {
    "name": "ipython",
    "version": 3
   },
   "file_extension": ".py",
   "mimetype": "text/x-python",
   "name": "python",
   "nbconvert_exporter": "python",
   "pygments_lexer": "ipython3",
   "version": "3.6.5"
  }
 },
 "nbformat": 4,
 "nbformat_minor": 2
}
