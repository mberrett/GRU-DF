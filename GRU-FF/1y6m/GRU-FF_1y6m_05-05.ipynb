{
 "cells": [
  {
   "cell_type": "markdown",
   "metadata": {},
   "source": [
    "# GRU-FF\n",
    "### 1 year and a half observation window\n",
    "\n",
    "- Train\n",
    "  - Forward Fill For Target and Feature\n",
    "  \n",
    "- Test \n",
    "  - Mask Target and Features"
   ]
  },
  {
   "cell_type": "markdown",
   "metadata": {},
   "source": [
    "### Base Parameters"
   ]
  },
  {
   "cell_type": "code",
   "execution_count": null,
   "metadata": {},
   "outputs": [],
   "source": [
    "n_features = 115\n",
    "pot = 3"
   ]
  },
  {
   "cell_type": "markdown",
   "metadata": {},
   "source": [
    "### Functions"
   ]
  },
  {
   "cell_type": "code",
   "execution_count": null,
   "metadata": {},
   "outputs": [],
   "source": [
    "from __future__ import print_function\n",
    "import pandas as pd\n",
    "import numpy as np\n",
    "import time\n",
    "from sklearn.model_selection import train_test_split\n",
    "from sklearn.model_selection import StratifiedKFold, KFold\n",
    "import sklearn as sk\n",
    "\n",
    "import tensorflow as tf\n",
    "from matplotlib import pyplot as plt\n",
    "\n",
    "from keras import callbacks\n",
    "from keras import regularizers\n",
    "import keras.layers as L\n",
    "import keras.models as M\n",
    "from keras import backend as K\n",
    "from keras.callbacks import ModelCheckpoint\n",
    "from sklearn.metrics import mean_absolute_error as mae"
   ]
  },
  {
   "cell_type": "code",
   "execution_count": null,
   "metadata": {
    "code_folding": [
     0,
     7,
     11,
     20,
     26,
     47,
     66,
     87,
     96,
     113
    ]
   },
   "outputs": [],
   "source": [
    "def select_columns(col_list, n_months):\n",
    "    \"\"\"\n",
    "    Takes in a list of column names and number of visits starting at 0.\n",
    "    Returns column list time-stepped and dovetailed.\n",
    "    \"\"\" \n",
    "    return dovetail_names(*[time_step_names(i, n_months) for i in col_list])\n",
    "\n",
    "def time_step_names(name, n_months):\n",
    "\n",
    "    return [(name + '_%d' % (j+1)) for j in range(-1,n_months*6, 6)]\n",
    "\n",
    "def dovetail_names(*kwargs):\n",
    "    \"\"\"\n",
    "    Dovetails column names across time slices cccording to preset order.\n",
    "    \"\"\"\n",
    "    zipped = zip(*kwargs)\n",
    "    l = []\n",
    "   \n",
    "    for i in zipped:\n",
    "        \n",
    "        for j in i:\n",
    "            \n",
    "            l.append(j)\n",
    "            \n",
    "    return l\n",
    "\n",
    "def stretch_input(Xtr, n_inputs, time_steps, pot = pot):\n",
    "    \"\"\"\n",
    "    Xtr_fill is empty 3D numpy array where we extend length of patient observation times t\n",
    "    pot stands for Patient Observation Time. We only need to do this for our X input\n",
    "    \"\"\"\n",
    "    Xtr_fill = np.zeros(shape=[Xtr.shape[0], time_steps, n_inputs*pot] , dtype = object) \n",
    "\n",
    "    for subject in range(Xtr.shape[0]):\n",
    "    \n",
    "        for i in range(time_steps):\n",
    "            \n",
    "            concat_list = []\n",
    "            \n",
    "            for extra in range(pot):\n",
    "            \n",
    "                concat_list.append(Xtr[subject][i+extra])\n",
    "                \n",
    "            Xtr_fill[subject][i] = np.concatenate(concat_list)\n",
    "            \n",
    "    return Xtr_fill\n",
    "\n",
    "def reshape_data(X, y, n_time_steps, pot, n_features = n_features):  \n",
    "    \n",
    "    extra_ts = pot - 1\n",
    "    \n",
    "    X_reshaped = X.values.reshape(-1, n_time_steps+extra_ts, n_features)\n",
    "    y_reshaped = y.values.reshape(-1, n_time_steps, 1)\n",
    "    \n",
    "    if (pot > 1):\n",
    "        \n",
    "        X = stretch_input(X_reshaped, n_features, n_time_steps, pot)\n",
    "\n",
    "    y = y_reshaped.astype(float)\n",
    "    X = X.astype(float)\n",
    "    \n",
    "    print(\"X reshaped is \" + str(X.shape))\n",
    "    print(\"y reshaped is \" + str(y_reshaped.shape))\n",
    "    \n",
    "    return X, y\n",
    "\n",
    "def provide_data(X, y, roll, n_features = n_features, pot = pot):\n",
    " \n",
    "    X = X.iloc[:,:(n_features*(roll+(pot-1)))]\n",
    "    y = y.iloc[:,:roll]\n",
    "\n",
    "    y_full = y.dropna()\n",
    "\n",
    "    mask = X.index.isin(y_full.index.tolist())\n",
    "\n",
    "    X_full = X[mask]\n",
    "\n",
    "    y_nan = y[~mask]\n",
    "    X_nan = X[~mask]\n",
    "    \n",
    "    print('NaN')\n",
    "    X_nan, y_nan = reshape_data(X_nan, y_nan, roll)\n",
    "    print('Full')\n",
    "    X_full, y_full = reshape_data(X_full, y_full, roll)\n",
    "    \n",
    "    return X_full, X_nan, y_full, y_nan, mask\n",
    "\n",
    "def provide_all_data(X,y,roll):\n",
    " \n",
    "    X = X.iloc[:,:n_features*roll]\n",
    "    y = y.iloc[:,:roll]\n",
    "\n",
    "    X_all, y_all = reshape_data(X, y, roll)\n",
    "    \n",
    "    return X_all, y_all\n",
    "    \n",
    "def prepare_for_mask(X, y, mask_value = -99):\n",
    "    \"\"\"Improved and working\"\"\"\n",
    "    for i in range(y.shape[0]):\n",
    "        for j in range(y.shape[1]):\n",
    "            if np.isnan(y[i][j][0]) or (y[i][j] == mask_value):\n",
    "\n",
    "                X[i][j] = mask_value\n",
    "                y[i][j] = mask_value\n",
    "                \n",
    "    for i in range(X.shape[0]):\n",
    "        for j in range(X.shape[1]):\n",
    "            if (mask_value in X[i][j]) or np.isnan(X[i][j]).any():\n",
    "                \n",
    "                X[i][j] = mask_value\n",
    "                y[i][j] = mask_value\n",
    "            \n",
    "    return X,y\n",
    "\n",
    "def round_off_EDSS(number):\n",
    "    \"\"\"Round a number to the closest half integer.\n",
    "    >>> round_of_rating(1.3)\n",
    "    1.5\n",
    "    >>> round_of_rating(2.6)\n",
    "    2.5\n",
    "    >>> round_of_rating(3.0)\n",
    "    3.0\n",
    "    >>> round_of_rating(4.1)\n",
    "    4.0\"\"\"\n",
    "    return np.round(number * 2) / 2"
   ]
  },
  {
   "cell_type": "markdown",
   "metadata": {},
   "source": [
    "# Keras Callbacks"
   ]
  },
  {
   "cell_type": "code",
   "execution_count": null,
   "metadata": {},
   "outputs": [],
   "source": [
    "import os \n",
    "import shutil\n",
    "# reduce learning rate on plateau\n",
    "reduce_lr = callbacks.ReduceLROnPlateau(monitor='loss', factor=0.2,\n",
    "                               patience=5, min_lr=0.001)\n",
    "\n",
    "# stop training if there isn't a significant improvement in the course of 5 epochs\n",
    "early_stopping = callbacks.EarlyStopping(monitor='loss', min_delta=0.0001, \n",
    "                              patience=5, verbose=0, mode='auto', \n",
    "                              baseline=None, restore_best_weights=True)\n",
    "\n",
    "# model_checkpoint = ModelCheckpoint(mcp_file_path, monitor='val_loss', verbose=1, save_best_only=True, mode='min')\n",
    "\n",
    "callbacks_list = [reduce_lr, early_stopping]\n",
    "# callbacks_list_final = [reduce_lr, early_stopping, model_checkpoint]"
   ]
  },
  {
   "cell_type": "code",
   "execution_count": null,
   "metadata": {},
   "outputs": [],
   "source": [
    "weights_folder = 'weights1y6m/'\n",
    "weights_file = 'weights_1y6m.hdf5'"
   ]
  },
  {
   "cell_type": "code",
   "execution_count": null,
   "metadata": {
    "code_folding": [
     0,
     46
    ]
   },
   "outputs": [],
   "source": [
    "def run_model(X_train, X_test, y_train, y_test, batch_sz = 50, n_epochs = 500):\n",
    "    \n",
    "    # Delete Previous Model Checkpoint, if any\n",
    "    if os.path.exists(weights_folder):\n",
    "        shutil.rmtree(weights_folder)\n",
    "    os.makedirs(weights_folder)\n",
    "        \n",
    "    weights_file_path = weights_folder+weights_file\n",
    "    \n",
    "    model_checkpoint = ModelCheckpoint(weights_file_path, \n",
    "                                       monitor='val_loss', \n",
    "                                       verbose=1, \n",
    "                                       save_best_only=True, mode='min')\n",
    "\n",
    "    callbacks_list = [reduce_lr, early_stopping, model_checkpoint]\n",
    "\n",
    "    K.clear_session()\n",
    "    \n",
    "    n_time_steps = X_train.shape[1]\n",
    "    n_inputs = X_train.shape[2]\n",
    "\n",
    "    m = M.Sequential()\n",
    "    m.add(L.Masking(mask_value=-99, input_shape=(n_time_steps, n_inputs)))\n",
    "    m.add(L.GRU(128, return_sequences=True))\n",
    "    m.add(L.Dropout(0.2))\n",
    "    m.add(L.Dense(1, activation='relu', input_dim = 3))\n",
    "    m.compile(optimizer = 'adam', loss = 'mean_absolute_error')\n",
    "\n",
    "    m.fit(X_train, y_train, \n",
    "          batch_size = batch_sz, \n",
    "          epochs=n_epochs, \n",
    "          validation_split = 0.2,\n",
    "          callbacks = callbacks_list)  \n",
    "\n",
    "    m.load_weights(weights_file_path) \n",
    "    \n",
    "    y_pred = round_off_EDSS(m.predict(X_test))\n",
    "    \n",
    "    mask_test = np.where(y_test.reshape(-1) != -99)\n",
    "    \n",
    "    test_result = mae(y_pred.reshape(-1)[mask_test], y_test.reshape(-1)[mask_test])\n",
    "    \n",
    "    print(test_result)\n",
    "\n",
    "    return test_result\n",
    "\n",
    "def five_fold(X_og, y_og, ahead, pot=pot):\n",
    "\n",
    "    less = ahead - 1\n",
    "    \n",
    "    if (ahead > 1):\n",
    "        \n",
    "        X_og = X_og.iloc[:,:-(n_features*less)].copy()\n",
    "        y_og = y_og.iloc[:,less:].copy()\n",
    "    \n",
    "    \n",
    "    five_runs = []\n",
    "\n",
    "    for train, test in skf.split(X_og.index):\n",
    "\n",
    "        X_train_og = X_og.iloc[train, :].copy()\n",
    "        X_test_og = X_og.iloc[test, :].copy()\n",
    "        y_train_og = y_og.iloc[train, :].copy()\n",
    "        y_test_og = y_og.iloc[test,:].copy()\n",
    "        \n",
    "        # train impute feature and target \n",
    "        y_train_og = y_train_og.fillna(method = 'ffill',  axis = 1)\n",
    "        for col in y_train_og.columns:\n",
    "            if col in X_train_og.columns:\n",
    "                X_train_og[col] = y_train_og[col]\n",
    "                \n",
    "        mask_train = X_train_og.index.isin(X_train_og.dropna().index.tolist())\n",
    "#         mask_test = X_test_og.index.isin(X_test_og.dropna().index.tolist())\n",
    "\n",
    "        X_train_og, y_train_og = X_train_og[mask_train], y_train_og[mask_train]\n",
    "#         X_test_og, y_test_og = X_test_og[mask_test],y_test_og[mask_test]\n",
    "\n",
    "        n_time_steps = len(y_train_og.columns)\n",
    "        \n",
    "        print('TRAIN:')\n",
    "        X_train, y_train = reshape_data(X_train_og, y_train_og, n_time_steps, pot, n_features)\n",
    "        print('TEST:')\n",
    "        X_test, y_test = reshape_data(X_test_og, y_test_og, n_time_steps, pot, n_features)\n",
    "\n",
    "        # Perpare for Masking Layer \n",
    "        X_train, y_train = prepare_for_mask(X_train, y_train)\n",
    "        X_test, y_test = prepare_for_mask(X_test, y_test)\n",
    "        \n",
    "        res = run_model(X_train, X_test, y_train, y_test)\n",
    "        print(res)\n",
    "        \n",
    "        five_runs.append(res)\n",
    "\n",
    "    return np.mean(five_runs)"
   ]
  },
  {
   "cell_type": "markdown",
   "metadata": {},
   "source": [
    "# Import Data"
   ]
  },
  {
   "cell_type": "code",
   "execution_count": null,
   "metadata": {},
   "outputs": [],
   "source": [
    "X_og = pd.read_csv('../../data/pre_imputation_data/X_1.5_years|6_months.csv', index_col = 0)\n",
    "y_og = pd.read_csv('../../data/pre_imputation_data/y_1.5_yearS|6_months.csv', index_col = 0)\n",
    "\n",
    "#n_time_steps = len(y.columns)\n",
    "n_features = X_og.columns.tolist().index(\"EDSS_0\")+1\n",
    "pot = 3\n",
    "n_inputs = n_features * pot\n",
    "\n",
    "skf = KFold(n_splits=5, shuffle=True, random_state=42)\n",
    " \n",
    "print(\"The input length of the training data will be\", pot, \"time slices, separated by 6 month intervals\")\n",
    "print(n_features, \"features comprise one time slice\")"
   ]
  },
  {
   "cell_type": "markdown",
   "metadata": {},
   "source": [
    "### Data Processing "
   ]
  },
  {
   "cell_type": "code",
   "execution_count": null,
   "metadata": {},
   "outputs": [],
   "source": [
    "results = []"
   ]
  },
  {
   "cell_type": "code",
   "execution_count": null,
   "metadata": {},
   "outputs": [],
   "source": [
    "result1 = five_fold(X_og, y_og, 1)\n",
    "results.append(result1)"
   ]
  },
  {
   "cell_type": "code",
   "execution_count": null,
   "metadata": {},
   "outputs": [],
   "source": [
    "result1 "
   ]
  },
  {
   "cell_type": "code",
   "execution_count": null,
   "metadata": {},
   "outputs": [],
   "source": [
    "result2 = five_fold(X_og, y_og, 2)\n",
    "results.append(result2)"
   ]
  },
  {
   "cell_type": "code",
   "execution_count": null,
   "metadata": {},
   "outputs": [],
   "source": [
    "result2"
   ]
  },
  {
   "cell_type": "code",
   "execution_count": null,
   "metadata": {},
   "outputs": [],
   "source": [
    "result3 = five_fold(X_og, y_og, 3)\n",
    "results.append(result3)"
   ]
  },
  {
   "cell_type": "code",
   "execution_count": null,
   "metadata": {},
   "outputs": [],
   "source": [
    "result3"
   ]
  },
  {
   "cell_type": "code",
   "execution_count": null,
   "metadata": {},
   "outputs": [],
   "source": [
    "result4 = five_fold(X_og, y_og, 4)\n",
    "results.append(result4)"
   ]
  },
  {
   "cell_type": "code",
   "execution_count": null,
   "metadata": {},
   "outputs": [],
   "source": [
    "result4"
   ]
  },
  {
   "cell_type": "code",
   "execution_count": null,
   "metadata": {},
   "outputs": [],
   "source": [
    "result5 = five_fold(X_og, y_og, 5)\n",
    "results.append(result5)"
   ]
  },
  {
   "cell_type": "code",
   "execution_count": null,
   "metadata": {},
   "outputs": [],
   "source": [
    "result5"
   ]
  },
  {
   "cell_type": "code",
   "execution_count": null,
   "metadata": {},
   "outputs": [],
   "source": [
    "result6 = five_fold(X_og, y_og, 6)\n",
    "results.append(result6)"
   ]
  },
  {
   "cell_type": "code",
   "execution_count": null,
   "metadata": {},
   "outputs": [],
   "source": [
    "result6"
   ]
  },
  {
   "cell_type": "code",
   "execution_count": null,
   "metadata": {},
   "outputs": [],
   "source": [
    "result7 = five_fold(X_og, y_og, 7)\n",
    "results.append(result7)"
   ]
  },
  {
   "cell_type": "code",
   "execution_count": null,
   "metadata": {},
   "outputs": [],
   "source": [
    "result7"
   ]
  },
  {
   "cell_type": "code",
   "execution_count": null,
   "metadata": {},
   "outputs": [],
   "source": [
    "result8 = five_fold(X_og, y_og, 8)\n",
    "results.append(result8)"
   ]
  },
  {
   "cell_type": "code",
   "execution_count": null,
   "metadata": {},
   "outputs": [],
   "source": [
    "result8"
   ]
  },
  {
   "cell_type": "code",
   "execution_count": null,
   "metadata": {},
   "outputs": [],
   "source": [
    "result9 = five_fold(X_og, y_og, 9)\n",
    "results.append(result9)"
   ]
  },
  {
   "cell_type": "code",
   "execution_count": null,
   "metadata": {},
   "outputs": [],
   "source": [
    "result9"
   ]
  },
  {
   "cell_type": "code",
   "execution_count": null,
   "metadata": {},
   "outputs": [],
   "source": [
    "result10 = five_fold(X_og, y_og, 10)\n",
    "results.append(result10)"
   ]
  },
  {
   "cell_type": "code",
   "execution_count": null,
   "metadata": {},
   "outputs": [],
   "source": [
    "result10"
   ]
  },
  {
   "cell_type": "code",
   "execution_count": null,
   "metadata": {},
   "outputs": [],
   "source": [
    "result11 = five_fold(X_og, y_og, 11)\n",
    "results.append(result11)"
   ]
  },
  {
   "cell_type": "code",
   "execution_count": null,
   "metadata": {},
   "outputs": [],
   "source": [
    "result11"
   ]
  },
  {
   "cell_type": "code",
   "execution_count": null,
   "metadata": {},
   "outputs": [],
   "source": [
    "result12 = five_fold(X_og, y_og, 12)\n",
    "results.append(result12)"
   ]
  },
  {
   "cell_type": "code",
   "execution_count": null,
   "metadata": {},
   "outputs": [],
   "source": [
    "result12"
   ]
  },
  {
   "cell_type": "code",
   "execution_count": null,
   "metadata": {},
   "outputs": [],
   "source": [
    "results"
   ]
  }
 ],
 "metadata": {
  "kernelspec": {
   "display_name": "Python 3",
   "language": "python",
   "name": "python3"
  },
  "language_info": {
   "codemirror_mode": {
    "name": "ipython",
    "version": 3
   },
   "file_extension": ".py",
   "mimetype": "text/x-python",
   "name": "python",
   "nbconvert_exporter": "python",
   "pygments_lexer": "ipython3",
   "version": "3.6.5"
  }
 },
 "nbformat": 4,
 "nbformat_minor": 2
}
