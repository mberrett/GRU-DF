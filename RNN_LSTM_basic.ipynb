{
 "cells": [
  {
   "cell_type": "markdown",
   "metadata": {},
   "source": [
    "# RNN -> LSTM\n",
    "### 5 features\n",
    "### 5 timesteps\n",
    "### Evaluated by MSE "
   ]
  },
  {
   "cell_type": "code",
   "execution_count": 5,
   "metadata": {},
   "outputs": [],
   "source": [
    "from __future__ import print_function\n",
    "import pandas as pd\n",
    "import numpy as np\n",
    "import time\n",
    "from sklearn.model_selection import train_test_split\n",
    "from sklearn import preprocessing\n",
    "import tensorflow as tf\n",
    "import sklearn as sk\n",
    "from imblearn.over_sampling import SMOTE\n",
    "from matplotlib import pyplot as plt"
   ]
  },
  {
   "cell_type": "code",
   "execution_count": 6,
   "metadata": {},
   "outputs": [],
   "source": [
    "def select_columns(col_list, n_months):\n",
    "    \n",
    "    \"\"\"takes in a list of column names and number of visits starting at 0\n",
    "    returns column list time-stepped and dovetailed\"\"\" \n",
    "    \n",
    "    return dovetail_names(*[time_step_names(i, n_months) for i in col_list])\n",
    "        \n",
    "def time_step_names(name, n_months):\n",
    "\n",
    "    return [(name + '_%d' % (j+1)) for j in range(-1,n_months*6, 6)]\n",
    "\n",
    "def dovetail_names(*kwargs):\n",
    "    zipped = zip(*kwargs)\n",
    "    l = []\n",
    "    for i in zipped:\n",
    "        for j in i:\n",
    "            l.append(j)\n",
    "    return l"
   ]
  },
  {
   "cell_type": "markdown",
   "metadata": {},
   "source": [
    "# Filter Data"
   ]
  },
  {
   "cell_type": "code",
   "execution_count": 7,
   "metadata": {},
   "outputs": [],
   "source": [
    "col_names_raw = ['ATTACK','PYRAMIDAL_FUNCTION','CEREBELLAR_FUNCTION','BRAINSTEM_FUNCTION','EDSS']\n",
    "n = 5\n",
    "col_names = select_columns(col_names_raw, n)\n",
    "dataset = pd.read_csv(\"df_by_subject_November_6.csv\")\n",
    "df = dataset[col_names]\n",
    "\n",
    "n_inputs = len(col_names_raw)\n",
    "batch_size = 5\n",
    "time_steps = 5"
   ]
  },
  {
   "cell_type": "markdown",
   "metadata": {},
   "source": [
    "# Fill in Missing Values"
   ]
  },
  {
   "cell_type": "code",
   "execution_count": 8,
   "metadata": {},
   "outputs": [
    {
     "name": "stderr",
     "output_type": "stream",
     "text": [
      "/Users/matiasberretta/anaconda3/lib/python3.6/site-packages/pandas/core/generic.py:5430: SettingWithCopyWarning: \n",
      "A value is trying to be set on a copy of a slice from a DataFrame\n",
      "\n",
      "See the caveats in the documentation: http://pandas.pydata.org/pandas-docs/stable/indexing.html#indexing-view-versus-copy\n",
      "  self._update_inplace(new_data)\n",
      "/Users/matiasberretta/anaconda3/lib/python3.6/site-packages/pandas/core/generic.py:5886: SettingWithCopyWarning: \n",
      "A value is trying to be set on a copy of a slice from a DataFrame\n",
      "\n",
      "See the caveats in the documentation: http://pandas.pydata.org/pandas-docs/stable/indexing.html#indexing-view-versus-copy\n",
      "  self._update_inplace(new_data)\n"
     ]
    }
   ],
   "source": [
    "df = dataset[col_names]\n",
    "\n",
    "\"\"\"CONTINUOUS\"\"\"\n",
    "# Z-score mask EDSS\n",
    "for col in select_columns(['EDSS'],n):\n",
    "    df.loc[: ,col].fillna(df.loc[: ,col].dropna().mode()[0], inplace=True)\n",
    "\n",
    "\"\"\"BINARY CATEGORICAL\"\"\"\n",
    "# Replace Q and N as NaN, Nan with mode\n",
    "for col in select_columns(['ATTACK'],n):\n",
    "    df.loc[: ,col].replace(['Q','N'], np.NaN, inplace=True)\n",
    "    df.loc[: ,col].fillna(df.loc[: ,col].dropna().mode()[0], inplace=True)\n",
    "\n",
    "\"\"\"MULTICLASS CATEGORICAL\"\"\"\n",
    "# Replace X with NaN, NaNs with mode\n",
    "for col in select_columns(['CEREBELLAR_FUNCTION'],n):\n",
    "    df.loc[: ,col].replace('X', np.NaN, inplace=True) \n",
    "    df.loc[: ,col].fillna(df.loc[: ,col].dropna().mode()[0], inplace=True)\n",
    "\n",
    "# Replace NaNs with mode\n",
    "for col in select_columns(['PYRAMIDAL_FUNCTION'],n):\n",
    "    df.loc[: ,col].fillna(df.loc[: ,col].dropna().mode()[0], inplace=True)\n",
    "    \n",
    "# Replace X with NaN, NaNs with mode\n",
    "for col in select_columns(['BRAINSTEM_FUNCTION'],n):\n",
    "    df.loc[: ,col].replace('X', np.NaN, inplace=True) \n",
    "    df.loc[: ,col].fillna(df.loc[: ,col].dropna().mode()[0], inplace=True)"
   ]
  },
  {
   "cell_type": "markdown",
   "metadata": {},
   "source": [
    "# Reshaping Data into RNN friendly shape"
   ]
  },
  {
   "cell_type": "code",
   "execution_count": 10,
   "metadata": {},
   "outputs": [
    {
     "name": "stdout",
     "output_type": "stream",
     "text": [
      "(508, 25) (508, 5)\n"
     ]
    }
   ],
   "source": [
    "rows = 508\n",
    "X = df.iloc[:rows,:25].copy()\n",
    "#y = df.loc[:, select_columns(['EDSS'], n)].iloc[:15,1:].values\n",
    "y = df[select_columns(['EDSS'], 5)].drop('EDSS_0', axis = 1).iloc[:rows]\n",
    "print(X.shape, y.shape) "
   ]
  },
  {
   "cell_type": "markdown",
   "metadata": {},
   "source": [
    "# Split into train and test"
   ]
  },
  {
   "cell_type": "code",
   "execution_count": 11,
   "metadata": {},
   "outputs": [],
   "source": [
    "X_train, X_test, y_train, y_test = train_test_split(X, y, test_size=0.2, random_state=1)"
   ]
  },
  {
   "cell_type": "code",
   "execution_count": 14,
   "metadata": {},
   "outputs": [
    {
     "name": "stdout",
     "output_type": "stream",
     "text": [
      "X reshaped is (406, 5, 5)\n",
      "y reshaped is (406, 5, 1)\n"
     ]
    }
   ],
   "source": [
    "X_train_reshaped = X_train.values.reshape(-1, time_steps, n_inputs)\n",
    "y_train_reshaped = y_train.values.reshape(-1, time_steps, 1)\n",
    "print(\"X reshaped is \" + str(X_train_reshaped.shape))\n",
    "print(\"y reshaped is \" + str(y_train_reshaped.shape))"
   ]
  },
  {
   "cell_type": "code",
   "execution_count": 15,
   "metadata": {},
   "outputs": [
    {
     "name": "stdout",
     "output_type": "stream",
     "text": [
      "X reshaped is (102, 5, 5)\n",
      "y reshaped is (102, 5, 1)\n"
     ]
    }
   ],
   "source": [
    "X_test_reshaped = X_test.values.reshape(-1, time_steps, n_inputs)\n",
    "y_test_reshaped = y_test.values.reshape(-1, time_steps, 1)\n",
    "print(\"X reshaped is \" + str(X_test_reshaped.shape))\n",
    "print(\"y reshaped is \" + str(y_test_reshaped.shape))"
   ]
  },
  {
   "cell_type": "code",
   "execution_count": 16,
   "metadata": {},
   "outputs": [],
   "source": [
    "n_inputs = 5 # 27 features + 38 fixed features \n",
    "\n",
    "n_neurons = 15\n",
    "\n",
    "n_layers = 1\n",
    "\n",
    "n_outputs = 1\n",
    "\n",
    "learning_rate = 0.001\n",
    "\n",
    "n_steps = 5 # 5 steps "
   ]
  },
  {
   "cell_type": "code",
   "execution_count": 21,
   "metadata": {},
   "outputs": [],
   "source": [
    "X = tf.placeholder(tf.float32, [None, n_steps, n_inputs], name = \"X\") # [None, 5, 27]\n",
    "y = tf.placeholder(tf.int32, [None, n_steps, 1], name = \"y\") # changed from tf.float32 to tf.int32 "
   ]
  },
  {
   "cell_type": "code",
   "execution_count": 22,
   "metadata": {},
   "outputs": [],
   "source": [
    "layers = [tf.contrib.rnn.BasicRNNCell(num_units = n_neurons, activation = tf.nn.relu)for layer in range(n_layers)]"
   ]
  },
  {
   "cell_type": "code",
   "execution_count": 23,
   "metadata": {},
   "outputs": [],
   "source": [
    "lstm_cell = tf.contrib.rnn.LSTMCell(num_units = n_neurons, use_peepholes = True)\n",
    "output_seqs, (c_states, h_states) = tf.nn.dynamic_rnn(lstm_cell, X, dtype = tf.float32)"
   ]
  },
  {
   "cell_type": "code",
   "execution_count": 24,
   "metadata": {},
   "outputs": [],
   "source": [
    "predictions = tf.contrib.layers.fully_connected(output_seqs, 1, activation_fn=tf.sigmoid)"
   ]
  },
  {
   "cell_type": "code",
   "execution_count": 25,
   "metadata": {},
   "outputs": [],
   "source": [
    "loss = tf.losses.mean_squared_error(labels = y, predictions = predictions)"
   ]
  },
  {
   "cell_type": "code",
   "execution_count": 26,
   "metadata": {},
   "outputs": [],
   "source": [
    "optimizer = tf.train.AdamOptimizer(learning_rate=0.01)\n",
    "training_op = optimizer.minimize(loss)"
   ]
  },
  {
   "cell_type": "code",
   "execution_count": 30,
   "metadata": {},
   "outputs": [],
   "source": [
    "init = tf.group(tf.global_variables_initializer(), tf.local_variables_initializer())\n",
    "X_train = X_train_reshaped\n",
    "y_train = y_train_reshaped\n",
    "X_test= X_test_reshaped\n",
    "y_test = y_test_reshaped"
   ]
  },
  {
   "cell_type": "code",
   "execution_count": 38,
   "metadata": {},
   "outputs": [],
   "source": [
    "n_epochs = 20\n",
    "batch_sz = 50\n",
    "#train_keep_prob = 0.5\n",
    "mse_train = []\n",
    "\n",
    "with tf.Session() as sess:\n",
    "    init.run()\n",
    "    for epoch in range(n_epochs):\n",
    "        for iter in range(len(X_train) // batch_sz):\n",
    "\n",
    "            X_batch, y_batch = X_train[iter*batch_sz: (iter+1)*batch_sz], y_train[iter*batch_sz: (iter+1)*batch_sz]\n",
    "            X_batch = X_batch.reshape((-1, n_steps, n_inputs))\n",
    "            y_batch = y_batch.reshape((-1,5, 1)) # added 1\n",
    "            sess.run(training_op, feed_dict={X: X_batch, y: y_batch})\n",
    "            \n",
    "        mse_train.append(sess.run(loss, feed_dict={X: X_batch, y: y_batch}))"
   ]
  },
  {
   "cell_type": "code",
   "execution_count": 39,
   "metadata": {},
   "outputs": [
    {
     "data": {
      "text/plain": [
       "[<matplotlib.lines.Line2D at 0x1c3656f160>]"
      ]
     },
     "execution_count": 39,
     "metadata": {},
     "output_type": "execute_result"
    },
    {
     "data": {
      "image/png": "[encoded data removed]",
      "text/plain": [
       "<Figure size 432x288 with 1 Axes>"
      ]
     },
     "metadata": {},
     "output_type": "display_data"
    }
   ],
   "source": [
    "plt.plot(mse_train)"
   ]
  },
  {
   "cell_type": "code",
   "execution_count": 32,
   "metadata": {},
   "outputs": [],
   "source": [
    "n_epochs = 20\n",
    "batch_sz = 50\n",
    "#train_keep_prob = 0.5\n",
    "mse_test = []\n",
    "\n",
    "with tf.Session() as sess:\n",
    "    init.run()\n",
    "    for epoch in range(n_epochs):\n",
    "        for iter in range(len(X_test) // batch_sz):\n",
    "\n",
    "            X_batch, y_batch = X_test[iter*batch_sz: (iter+1)*batch_sz], y_test[iter*batch_sz: (iter+1)*batch_sz]\n",
    "            X_batch = X_batch.reshape((-1, n_steps, n_inputs))\n",
    "            y_batch = y_batch.reshape((-1,5, 1)) # added 1\n",
    "            sess.run(training_op, feed_dict={X: X_batch, y: y_batch})\n",
    "            \n",
    "        mse_test.append(sess.run(loss, feed_dict={X: X_batch, y: y_batch}))"
   ]
  },
  {
   "cell_type": "code",
   "execution_count": 35,
   "metadata": {},
   "outputs": [
    {
     "data": {
      "text/plain": [
       "[<matplotlib.lines.Line2D at 0x1c36609630>]"
      ]
     },
     "execution_count": 35,
     "metadata": {},
     "output_type": "execute_result"
    },
    {
     "data": {
      "image/png": "[encoded data removed]",
      "text/plain": [
       "<Figure size 432x288 with 1 Axes>"
      ]
     },
     "metadata": {},
     "output_type": "display_data"
    }
   ],
   "source": [
    "plt.plot(mse_test)"
   ]
  },
  {
   "cell_type": "code",
   "execution_count": 45,
   "metadata": {},
   "outputs": [
    {
     "name": "stdout",
     "output_type": "stream",
     "text": [
      "Train MSE: 2.1918697 Test MSE: 4.729342\n"
     ]
    }
   ],
   "source": [
    "print(\"Train MSE:\", mse_train[-1], \"Test MSE:\", mse_test[-1])"
   ]
  }
 ],
 "metadata": {
  "kernelspec": {
   "display_name": "Python 3",
   "language": "python",
   "name": "python3"
  },
  "language_info": {
   "codemirror_mode": {
    "name": "ipython",
    "version": 3
   },
   "file_extension": ".py",
   "mimetype": "text/x-python",
   "name": "python",
   "nbconvert_exporter": "python",
   "pygments_lexer": "ipython3",
   "version": "3.6.5"
  }
 },
 "nbformat": 4,
 "nbformat_minor": 2
}
