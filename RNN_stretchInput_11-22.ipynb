{
 "cells": [
  {
   "cell_type": "markdown",
   "metadata": {},
   "source": [
    "# RNN -> LSTM\n",
    "\n",
    "# Looking 1 year ahead with 1 year of patient observation\n",
    "\n",
    "### 2 patient observation time = 1 year of patient observation\n",
    "### 8 features = 3 fixed features + 5 timed features\n",
    "### 16 input length = (8 features * 2 patient observation time) \n",
    "### 5 training timesteps x => y\n",
    "### Evaluated by MSE "
   ]
  },
  {
   "cell_type": "code",
   "execution_count": 1,
   "metadata": {},
   "outputs": [
    {
     "name": "stderr",
     "output_type": "stream",
     "text": [
      "/Users/matiasberretta/anaconda3/lib/python3.6/site-packages/h5py/__init__.py:36: FutureWarning: Conversion of the second argument of issubdtype from `float` to `np.floating` is deprecated. In future, it will be treated as `np.float64 == np.dtype(float).type`.\n",
      "  from ._conv import register_converters as _register_converters\n"
     ]
    }
   ],
   "source": [
    "from __future__ import print_function\n",
    "import pandas as pd\n",
    "import numpy as np\n",
    "import time\n",
    "from sklearn.model_selection import train_test_split\n",
    "from sklearn import preprocessing\n",
    "import tensorflow as tf\n",
    "import sklearn as sk\n",
    "from imblearn.over_sampling import SMOTE\n",
    "from matplotlib import pyplot as plt"
   ]
  },
  {
   "cell_type": "code",
   "execution_count": 2,
   "metadata": {},
   "outputs": [],
   "source": [
    "def select_columns(col_list, n_months):\n",
    "    \n",
    "    \"\"\"takes in a list of column names and number of visits starting at 0\n",
    "    returns column list time-stepped and dovetailed\"\"\" \n",
    "    \n",
    "    return dovetail_names(*[time_step_names(i, n_months) for i in col_list])\n",
    "        \n",
    "def time_step_names(name, n_months):\n",
    "\n",
    "    return [(name + '_%d' % (j+1)) for j in range(-1,n_months*6, 6)]\n",
    "\n",
    "def dovetail_names(*kwargs):\n",
    "    zipped = zip(*kwargs)\n",
    "    l = []\n",
    "    for i in zipped:\n",
    "        for j in i:\n",
    "            l.append(j)\n",
    "    return l\n",
    "\n",
    "def stretch_input(Xtr, pot):\n",
    "\n",
    "    \"\"\"Xtr_fill is empty 3D numpy array where we extend length of patient observation times t\n",
    "    pot stands for Patient Observation Time. We only need to do this for our X input\"\"\"\n",
    "    \n",
    "    Xtr_fill = np.zeros(shape=[Xtr.shape[0],time_steps,8*pot] , dtype = object) \n",
    "    \n",
    "    for subject in range(Xtr.shape[0]):\n",
    "\n",
    "        for i in range(time_steps):\n",
    "\n",
    "            Xtr_fill[subject][i] = np.concatenate([Xtr[subject][i],Xtr[subject][i+1]])\n",
    "            \n",
    "    return Xtr_fill"
   ]
  },
  {
   "cell_type": "markdown",
   "metadata": {},
   "source": [
    "# Filter Data"
   ]
  },
  {
   "cell_type": "markdown",
   "metadata": {},
   "source": [
    "X_0_2 => y_4\n",
    "\n",
    "X_1_3 => y_5\n",
    "\n",
    "X_2_4 => y_6\n",
    "\n",
    "X_3_5 => y_7\n",
    "\n",
    "X_4_6 => y_8\n",
    "\n",
    "X_5_7 => y_9"
   ]
  },
  {
   "cell_type": "code",
   "execution_count": 7,
   "metadata": {},
   "outputs": [],
   "source": [
    "dataset = pd.read_csv(\"df_by_subject_11-6.csv\", index_col = 0)\n",
    "\n",
    "# timed featuers\n",
    "col_names_raw = ['ATTACK','PYRAMIDAL_FUNCTION','CEREBELLAR_FUNCTION','BRAINSTEM_FUNCTION','EDSS']\n",
    "len_timed_features = len(col_names_raw)\n",
    "n = 9 # y_9 // number of timesteps after 0 => t8 is equal to 4 years \n",
    "time_col_names = select_columns(col_names_raw, n)\n",
    "\n",
    "# fixed features\n",
    "fixed_col_names = ['DOB_YEAR','SEX','RACE']\n",
    "len_fixed_features = len(fixed_col_names)\n",
    "\n",
    "# timed features + fixed features \n",
    "all_col_names = fixed_col_names.copy()\n",
    "all_col_names.extend(time_col_names)\n",
    "\n",
    "col_names_together = ['DOB_YEAR','SEX','RACE','ATTACK','PYRAMIDAL_FUNCTION','CEREBELLAR_FUNCTION','BRAINSTEM_FUNCTION','EDSS']\n",
    "n_features = len(col_names_together) \n",
    "col_names_together_timed = select_columns(col_names_together, n)\n",
    "len_all_col_names = len(col_names_together_timed)"
   ]
  },
  {
   "cell_type": "markdown",
   "metadata": {},
   "source": [
    "### \"Fixed\" Data Set for fixed values such as sex, race, etc"
   ]
  },
  {
   "cell_type": "code",
   "execution_count": 8,
   "metadata": {},
   "outputs": [],
   "source": [
    "df_fixed = dataset[fixed_col_names].copy()\n",
    "#========================#========================#========================#========================\n",
    "df_fixed['SEX'] = pd.get_dummies(df_fixed['SEX']).iloc[:,1]\n",
    "\n",
    "df_fixed['RACE'].replace(['E','S'],0, inplace=True)"
   ]
  },
  {
   "cell_type": "code",
   "execution_count": 9,
   "metadata": {},
   "outputs": [],
   "source": [
    "m_dataset = dataset.copy()\n",
    "\n",
    "for initial_name in fixed_col_names:\n",
    "    for col_name in select_columns([initial_name], n):\n",
    "        m_dataset[col_name] = df_fixed[initial_name]"
   ]
  },
  {
   "cell_type": "markdown",
   "metadata": {},
   "source": [
    "# Fill in Missing Values"
   ]
  },
  {
   "cell_type": "code",
   "execution_count": 10,
   "metadata": {},
   "outputs": [],
   "source": [
    "df = m_dataset[col_names_together_timed].copy()\n",
    "\n",
    "\"\"\"CONTINUOUS\"\"\"\n",
    "# Z-score mask EDSS\n",
    "for col in select_columns(['EDSS'],n): # drop edss_30\n",
    "    df.loc[: ,col].fillna(df.loc[: ,col].dropna().mode()[0], inplace=True)\n",
    "\n",
    "\"\"\"BINARY CATEGORICAL\"\"\"\n",
    "# Replace Q and N as NaN, Nan with mode\n",
    "for col in select_columns(['ATTACK'],n):\n",
    "    df.loc[: ,col].replace(['Q','N'], np.NaN, inplace=True)\n",
    "    df.loc[: ,col].fillna(0, inplace=True)\n",
    "\n",
    "\"\"\"MULTICLASS CATEGORICAL\"\"\"\n",
    "# Replace X with NaN, NaNs with mode\n",
    "for col in select_columns(['CEREBELLAR_FUNCTION'],n):\n",
    "    df.loc[: ,col].replace('X', np.NaN, inplace=True) \n",
    "    df.loc[: ,col].fillna(0, inplace=True)\n",
    "    \n",
    "# Replace NaNs with mode\n",
    "for col in select_columns(['PYRAMIDAL_FUNCTION'],n):\n",
    "    df.loc[: ,col].fillna(0, inplace=True)\n",
    "    \n",
    "# Replace X with NaN, NaNs with mode\n",
    "for col in select_columns(['BRAINSTEM_FUNCTION'],n):\n",
    "    df.loc[: ,col].replace('X', np.NaN, inplace=True) \n",
    "    df.loc[: ,col].fillna(0, inplace=True)\n",
    "    "
   ]
  },
  {
   "cell_type": "markdown",
   "metadata": {},
   "source": [
    "# Reshaping Data into RNN friendly shape"
   ]
  },
  {
   "cell_type": "code",
   "execution_count": 13,
   "metadata": {},
   "outputs": [
    {
     "name": "stdout",
     "output_type": "stream",
     "text": [
      "(508, 72) (508, 5)\n"
     ]
    }
   ],
   "source": [
    "X = df.iloc[:,:len_all_col_names-n_features].copy() # up to t7 (_42)\n",
    "# X goes up to the length of the total available dataframe columns - t amount of length of column list for a timestep\n",
    "#y = df.loc[:, select_columns(['EDSS'], n)].iloc[:15,1:].values\n",
    "y = df[select_columns(['EDSS'], n)].drop(select_columns(['EDSS'], n-5), axis = 1) # from t3 to t8 (_24-_48)\n",
    "print(X.shape, y.shape) "
   ]
  },
  {
   "cell_type": "markdown",
   "metadata": {},
   "source": [
    "# Split into train and test"
   ]
  },
  {
   "cell_type": "code",
   "execution_count": 14,
   "metadata": {},
   "outputs": [],
   "source": [
    "X_train_df, X_test_df, y_train_df, y_test_df = train_test_split(X, y, test_size=0.20, random_state=1)"
   ]
  },
  {
   "cell_type": "markdown",
   "metadata": {},
   "source": [
    "# Reshape train and test into rnn friendly 3D arrays"
   ]
  },
  {
   "cell_type": "code",
   "execution_count": 16,
   "metadata": {},
   "outputs": [],
   "source": [
    "time_steps = 5 # number of time steps that will be taken in RNN "
   ]
  },
  {
   "cell_type": "code",
   "execution_count": 17,
   "metadata": {},
   "outputs": [
    {
     "name": "stdout",
     "output_type": "stream",
     "text": [
      "X reshaped is (406, 9, 8)\n",
      "y reshaped is (406, 5, 1)\n"
     ]
    }
   ],
   "source": [
    "X_train_r = X_train_df.values.reshape(-1, n, n_features) # n will be turned to time_steps for X_train\n",
    "y_train = y_train_df.values.reshape(-1, time_steps, 1)\n",
    "print(\"X reshaped is \" + str(X_train_r.shape))\n",
    "print(\"y reshaped is \" + str(y_train.shape))"
   ]
  },
  {
   "cell_type": "code",
   "execution_count": 18,
   "metadata": {},
   "outputs": [
    {
     "name": "stdout",
     "output_type": "stream",
     "text": [
      "X reshaped is (102, 9, 8)\n",
      "y reshaped is (102, 5, 1)\n"
     ]
    }
   ],
   "source": [
    "X_test_r = X_test_df.values.reshape(-1, n, n_features) # n will be turned to time_steps for X_train\n",
    "y_test = y_test_df.values.reshape(-1, time_steps, 1)\n",
    "print(\"X reshaped is \" + str(X_test_r.shape))\n",
    "print(\"y reshaped is \" + str(y_test.shape))"
   ]
  },
  {
   "cell_type": "markdown",
   "metadata": {},
   "source": [
    "### Extend Patient Observation (Only for X)"
   ]
  },
  {
   "cell_type": "code",
   "execution_count": 19,
   "metadata": {},
   "outputs": [],
   "source": [
    "pot = 2 # length of X's timewindow in t\n",
    "\n",
    "X_train = stretch_input(X_train_r, pot) # X_train will be shaped [406, 5, 16] derived from X_train_r's [406, 8, 8]\n",
    "X_test = stretch_input(X_test_r, pot)"
   ]
  },
  {
   "cell_type": "markdown",
   "metadata": {},
   "source": [
    "# RNN parameters"
   ]
  },
  {
   "cell_type": "code",
   "execution_count": 20,
   "metadata": {},
   "outputs": [],
   "source": [
    "# 27 features + 38 fixed features \n",
    "\n",
    "n_inputs = 8*pot # 8 features times 2 timesteps of patient observation\n",
    "\n",
    "n_neurons = 15\n",
    "\n",
    "n_layers = 1\n",
    "\n",
    "n_outputs = 1\n",
    "\n",
    "learning_rate = 0.001\n",
    "\n",
    "n_steps = 5 # 5 steps "
   ]
  },
  {
   "cell_type": "code",
   "execution_count": 21,
   "metadata": {},
   "outputs": [],
   "source": [
    "X = tf.placeholder(tf.float32, [None, n_steps, n_inputs], name = \"X\") # [None, 8, 27]\n",
    "y = tf.placeholder(tf.int32, [None, n_steps, 1], name = \"y\") # changed from tf.float32 to tf.int32 "
   ]
  },
  {
   "cell_type": "code",
   "execution_count": 22,
   "metadata": {},
   "outputs": [],
   "source": [
    "layers = [tf.contrib.rnn.BasicRNNCell(num_units = n_neurons, activation = tf.nn.relu)for layer in range(n_layers)]\n",
    "\n",
    "lstm_cell = tf.contrib.rnn.LSTMCell(num_units = n_neurons, use_peepholes = True)\n",
    "output_seqs, (c_states, h_states) = tf.nn.dynamic_rnn(lstm_cell, X, dtype = tf.float32)\n",
    "\n",
    "predictions = tf.contrib.layers.fully_connected(output_seqs, 1, activation_fn=tf.sigmoid)\n",
    "\n",
    "loss = tf.losses.mean_squared_error(labels = y, predictions = predictions)\n",
    "\n",
    "optimizer = tf.train.AdamOptimizer(learning_rate=0.01)\n",
    "training_op = optimizer.minimize(loss)"
   ]
  },
  {
   "cell_type": "code",
   "execution_count": 23,
   "metadata": {},
   "outputs": [],
   "source": [
    "init = tf.group(tf.global_variables_initializer(), tf.local_variables_initializer())"
   ]
  },
  {
   "cell_type": "code",
   "execution_count": 24,
   "metadata": {},
   "outputs": [],
   "source": [
    "n_epochs = 20\n",
    "batch_sz = 50\n",
    "mse_train = []\n",
    "mse_test = []\n",
    "\n",
    "with tf.Session() as sess:\n",
    "    init.run()\n",
    "    for epoch in range(n_epochs):\n",
    "        for iter in range(len(X_train) // batch_sz):\n",
    "\n",
    "            X_batch, y_batch = X_train[iter*batch_sz: (iter+1)*batch_sz], y_train[iter*batch_sz: (iter+1)*batch_sz]\n",
    "            X_batch = X_batch.reshape((-1, n_steps, 16))\n",
    "            y_batch = y_batch.reshape((-1, n_steps, 1)) # added 1\n",
    "            sess.run(training_op, feed_dict={X: X_batch, y: y_batch})\n",
    "            \n",
    "        mse_train.append(sess.run(loss, feed_dict={X: X_batch, y: y_batch}))\n",
    "        \n",
    "        mse_test.append(sess.run(loss, feed_dict={X : X_test.reshape((-1, n_steps, n_inputs)), \n",
    "                                              y : y_test.reshape((-1,n_steps,1))}))"
   ]
  },
  {
   "cell_type": "code",
   "execution_count": 25,
   "metadata": {},
   "outputs": [
    {
     "data": {
      "text/plain": [
       "[<matplotlib.lines.Line2D at 0x1c3750cc50>]"
      ]
     },
     "execution_count": 25,
     "metadata": {},
     "output_type": "execute_result"
    },
    {
     "data": {
      "image/png": "[encoded data removed]",
      "text/plain": [
       "<Figure size 432x288 with 1 Axes>"
      ]
     },
     "metadata": {},
     "output_type": "display_data"
    }
   ],
   "source": [
    "plt.plot(mse_train)\n",
    "plt.plot(mse_test)"
   ]
  },
  {
   "cell_type": "code",
   "execution_count": 26,
   "metadata": {},
   "outputs": [
    {
     "name": "stdout",
     "output_type": "stream",
     "text": [
      "Train MSE: 2.8003142 Test MSE: 3.7107844\n"
     ]
    }
   ],
   "source": [
    "print(\"Train MSE:\", mse_train[-1], \"Test MSE:\", mse_test[-1])"
   ]
  }
 ],
 "metadata": {
  "kernelspec": {
   "display_name": "Python 3",
   "language": "python",
   "name": "python3"
  },
  "language_info": {
   "codemirror_mode": {
    "name": "ipython",
    "version": 3
   },
   "file_extension": ".py",
   "mimetype": "text/x-python",
   "name": "python",
   "nbconvert_exporter": "python",
   "pygments_lexer": "ipython3",
   "version": "3.6.5"
  }
 },
 "nbformat": 4,
 "nbformat_minor": 2
}
