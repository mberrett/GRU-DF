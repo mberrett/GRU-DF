{
 "cells": [
  {
   "cell_type": "markdown",
   "metadata": {},
   "source": [
    "# LSTM_RNN\n",
    "\n",
    "### Model\n",
    "- model = LSTM\n",
    "- batch_size = 32\n",
    "- epochs = 100\n",
    "- loss = mse\n",
    "\n",
    "### Data\n",
    "- time frame: 6 months | 6 months\n",
    "- features: all of them (110)\n",
    "- target: EDSS_6...EDSS_222\n",
    "- imputation \n",
    "    - target: interpolation (trailing ends for extrapolation)\n",
    "    - features: zero-imputation\n",
    "- time steps: exhaustive (37)"
   ]
  },
  {
   "cell_type": "code",
   "execution_count": 15,
   "metadata": {},
   "outputs": [],
   "source": [
    "from __future__ import print_function\n",
    "import pandas as pd\n",
    "import numpy as np\n",
    "import time\n",
    "from sklearn.model_selection import train_test_split\n",
    "from sklearn import preprocessing\n",
    "import tensorflow as tf\n",
    "import sklearn as sk\n",
    "from imblearn.over_sampling import SMOTE\n",
    "from matplotlib import pyplot as plt\n",
    "\n",
    "def select_columns(col_list, n_months):\n",
    "    \"\"\"\n",
    "    Takes in a list of column names and number of visits starting at 0.\n",
    "    Returns column list time-stepped and dovetailed.\n",
    "    \"\"\" \n",
    "    return dovetail_names(*[time_step_names(i, n_months) for i in col_list])\n",
    "        \n",
    "def time_step_names(name, n_months):\n",
    "\n",
    "    return [(name + '_%d' % (j+1)) for j in range(-1,n_months*6, 6)]\n",
    "\n",
    "def dovetail_names(*kwargs):\n",
    "    \"\"\"\n",
    "    Dovetails column names across time slices cccording to preset order.\n",
    "    \"\"\"\n",
    "    zipped = zip(*kwargs)\n",
    "    l = []\n",
    "   \n",
    "    for i in zipped:\n",
    "        \n",
    "        for j in i:\n",
    "            \n",
    "            l.append(j)\n",
    "            \n",
    "    return l\n",
    "\n",
    "def stack_times(data, name, n):\n",
    "    \"\"\"\n",
    "    Takes in wide-format dataframe, column name and n of time steps.\n",
    "    Returns long-foramt dataframe.\n",
    "    \"\"\"\n",
    "    all_names = select_columns(name, n-1)\n",
    "    \n",
    "    l = []\n",
    "    \n",
    "    for col in all_names:\n",
    "        \n",
    "        l.append(data[col].copy())\n",
    "    \n",
    "    stacked = l[0]\n",
    "    rest = l[1:]\n",
    "\n",
    "    stacked.append(rest) # Stack Series and get dummy variables \n",
    "    \n",
    "    return stacked\n",
    "\n",
    "def stack_dummy(data, name, n):\n",
    "    \"\"\"\n",
    "    Takes in dataframe and column name.\n",
    "    Returns that same feature split into dummy columns\n",
    "    across n time steps (adjacent).\n",
    "    \"\"\"\n",
    "    all_names = select_columns(name, n-1)\n",
    "    \n",
    "    l = []\n",
    "    \n",
    "    for col in all_names:\n",
    "        \n",
    "        l.append(data[col].copy())\n",
    "    \n",
    "    f = l[0]\n",
    "    rest = l[1:]\n",
    "    \n",
    "    pre_dummy = pd.get_dummies(f.append(rest)) # Stack Series and get dummy variables \n",
    "    after_dummy = time_dummy(pre_dummy, n)\n",
    "    \n",
    "    dummy_value_names = generate_col_names(after_dummy, name)\n",
    "    time_stepped_dummy_names = time_step_dummy_value_names(dummy_value_names, n)\n",
    "    \n",
    "    for t in range(len(after_dummy)):\n",
    "        \n",
    "        after_dummy[t].columns = list(time_stepped_dummy_names[t])\n",
    "        \n",
    "    return pd.concat(after_dummy, axis = 1, sort = False), dummy_value_names\n",
    "\n",
    "\n",
    "def time_dummy(dummy_df, n):\n",
    "    \"\"\"\n",
    "    Separates long data frame into time steps \n",
    "    (i.e. 508 subjects (rows) per time step)\n",
    "    \"\"\"\n",
    "    l = []\n",
    "    \n",
    "    for i in range(n):\n",
    "        \n",
    "        l.append(dummy_df.iloc[i*508:(i+1)*508,:].copy())\n",
    "    \n",
    "    return l\n",
    "\n",
    "def generate_col_names(after_dummy, name):\n",
    "    \"\"\"\n",
    "    Generates column names for result of pd.get_dummies on a feature\n",
    "    i.e. if A has values x and y, it will generate A_x, A_y\n",
    "    \"\"\"\n",
    "    return [(str(name[0]) + \"_\" + str(list(after_dummy[0].columns)[i])) \n",
    "            for i in range(len(list(after_dummy[0].columns)))]\n",
    "\n",
    "def time_step_dummy_value_names(names, n_months):\n",
    "    \n",
    "    long_list = [(name + '_%d' % (j+1)) for j in range(-1,n_months*6, 6) for name in names]\n",
    "    \n",
    "    return np.array(long_list).reshape(-1, len(names))\n",
    "\n",
    "def add_columns(add_to, name, names_per_t, n):\n",
    "    \"\"\"\n",
    "    Adds new dummied features to dataframes (copies).\n",
    "    \n",
    "    Removes undummied version of features.\n",
    "    \n",
    "    Function wraps around stack_dummy() function.\n",
    "    \n",
    "    Argument \"name\" must be a list dtype. \n",
    "    \"\"\"\n",
    "    n = n + 1\n",
    "    to_add, bare_names = stack_dummy(df, name, n)\n",
    "    to_remove = select_columns(name, n-1)\n",
    "    \n",
    "    newdf = add_to.copy()\n",
    "    column_names = list(to_add.columns)\n",
    "    \n",
    "    for i in range(len(column_names)):\n",
    "        \n",
    "        newdf[column_names[i]] = to_add.iloc[:,i]\n",
    "        \n",
    "    newdf.drop(to_remove,axis = 1, inplace = True)\n",
    "    names_per_t_updated = column_names_per_time_step(names_per_t, bare_names, name[0])\n",
    "    namesOrder= select_columns(names_per_t_updated, n-1)\n",
    "    \n",
    "    return newdf[namesOrder].copy(), names_per_t_updated\n",
    "\n",
    "def column_names_per_time_step(original_list, add, remove):\n",
    "    \"\"\"\n",
    "    Places EDSS column at the end of the time slice\n",
    "    Removes previous\n",
    "    \"\"\"\n",
    "    new_list = original_list.copy()\n",
    "\n",
    "    new_list.remove(remove)\n",
    "    new_list.extend(add)\n",
    "    \n",
    "    new_list.remove('EDSS')\n",
    "    new_list.append('EDSS')\n",
    "    \n",
    "    return new_list\n",
    "\n",
    "def manual_dummy(df, names, name_list, n):\n",
    "    \n",
    "    dfUpdated =df.copy()\n",
    "    \n",
    "    names = [[name] for name in names] # turn to list format \n",
    "    \n",
    "    for name in names:\n",
    "        \n",
    "        dfUpdated, name_list = add_columns(dfUpdated, name , name_list, n)\n",
    "   \n",
    "    return dfUpdated "
   ]
  },
  {
   "cell_type": "markdown",
   "metadata": {},
   "source": [
    "# Import Data & Define Parameters"
   ]
  },
  {
   "cell_type": "code",
   "execution_count": 17,
   "metadata": {},
   "outputs": [
    {
     "name": "stdout",
     "output_type": "stream",
     "text": [
      "The RNN window will slide 37 times\n",
      "The input length of the training data will be 1 time slices, separated by 6 month intervals\n",
      "110 featues comprise one time slice\n"
     ]
    }
   ],
   "source": [
    "X = pd.read_csv(\"data/X_6_months|6_months_exhaustive.csv\", index_col = 0)\n",
    "y = pd.read_csv(\"data/y_6_months|6_months_exhaustive.csv\", index_col = 0)\n",
    "\n",
    "n_time_steps = len(y.columns)\n",
    "n_inputs_pure = X.columns.tolist().index(\"EDSS_0\")+1\n",
    "pot = 1\n",
    "\n",
    "print(\"The RNN window will slide\", n_time_steps, \"times\")\n",
    "print(\"The input length of the training data will be\", pot, \"time slices, separated by 6 month intervals\")\n",
    "print(n_inputs_pure, \"featues comprise one time slice\")"
   ]
  },
  {
   "cell_type": "markdown",
   "metadata": {},
   "source": [
    "# Split into train and test"
   ]
  },
  {
   "cell_type": "code",
   "execution_count": 18,
   "metadata": {},
   "outputs": [
    {
     "name": "stdout",
     "output_type": "stream",
     "text": [
      "X reshaped is (355, 37, 110)\n",
      "y reshaped is (355, 37, 1)\n",
      "X reshaped is (153, 37, 110)\n",
      "y reshaped is (153, 37, 1)\n",
      "(355, 37, 110) (355, 37, 1) (153, 37, 110) (153, 37, 1)\n"
     ]
    }
   ],
   "source": [
    "X_train, X_test, y_train, y_test = train_test_split(X, y, test_size=0.30, random_state=1)\n",
    "\n",
    "X_train_reshaped = X_train.values.reshape(-1, n_time_steps, n_inputs_pure) \n",
    "y_train_reshaped = y_train.values.reshape(-1, n_time_steps, 1)\n",
    "print(\"X reshaped is \" + str(X_train_reshaped.shape))\n",
    "print(\"y reshaped is \" + str(y_train_reshaped.shape))\n",
    "\n",
    "X_test_reshaped = X_test.values.reshape(-1, n_time_steps, n_inputs_pure)\n",
    "y_test_reshaped = y_test.values.reshape(-1, n_time_steps, 1)\n",
    "print(\"X reshaped is \" + str(X_test_reshaped.shape))\n",
    "print(\"y reshaped is \" + str(y_test_reshaped.shape))\n",
    "\n",
    "y_train = y_train_reshaped.astype(float)\n",
    "y_test = y_test_reshaped.astype(float)\n",
    "X_train = X_train_reshaped.astype(float)\n",
    "X_test = X_test_reshaped.astype(float)\n",
    "\n",
    "print(X_train.shape, y_train.shape, X_test.shape, y_test.shape)"
   ]
  },
  {
   "cell_type": "markdown",
   "metadata": {},
   "source": [
    "# Set values for the neuron"
   ]
  },
  {
   "cell_type": "code",
   "execution_count": 19,
   "metadata": {},
   "outputs": [
    {
     "name": "stdout",
     "output_type": "stream",
     "text": [
      "1 time slice per time step comprising 110 features each\n"
     ]
    }
   ],
   "source": [
    "n_inputs = n_inputs_pure * pot\n",
    "\n",
    "n_units = 64\n",
    "\n",
    "learning_rate = 0.01\n",
    "\n",
    "n_steps = n_time_steps\n",
    "\n",
    "print(pot, \"time slice per time step comprising\", n_inputs_pure, \"features each\")"
   ]
  },
  {
   "cell_type": "markdown",
   "metadata": {},
   "source": [
    "# Define Graph"
   ]
  },
  {
   "cell_type": "code",
   "execution_count": null,
   "metadata": {},
   "outputs": [],
   "source": [
    "# same as reshaping X_train, X_test, y_train, y_test, etc... except that instead of -1, we use None\n",
    "X_tf = tf.placeholder(tf.float32, [None, n_time_steps, n_inputs], name = \"X\") # [None, 8, 27]\n",
    "y_tf = tf.placeholder(tf.float32, [None, n_time_steps, 1], name = \"y\") # changed from tf.float32 to tf.int32 \n",
    "\n",
    "lstm_cell = tf.contrib.rnn.LSTMCell(num_units = n_units, use_peepholes = True)\n",
    "output_seqs, (c_states, h_states) = tf.nn.dynamic_rnn(lstm_cell, X_tf, dtype = tf.float32)\n",
    "\n",
    "predictions = tf.contrib.layers.fully_connected(output_seqs, 1, activation_fn=tf.nn.relu)\n",
    "\n",
    "loss = tf.losses.mean_squared_error(labels = y_tf, predictions = predictions)\n",
    "\n",
    "optimizer = tf.train.AdamOptimizer(learning_rate=learning_rate)\n",
    "training_op = optimizer.minimize(loss)"
   ]
  },
  {
   "cell_type": "markdown",
   "metadata": {},
   "source": [
    "# Run Graph"
   ]
  },
  {
   "cell_type": "code",
   "execution_count": 14,
   "metadata": {},
   "outputs": [],
   "source": [
    "init = tf.group(tf.global_variables_initializer(), tf.local_variables_initializer())\n",
    "\n",
    "n_epochs = 100\n",
    "batch_sz = 32\n",
    "mse_train = []\n",
    "mse_test = []\n",
    "allpredictions = []\n",
    "alloutputs = []\n",
    "with tf.Session() as sess:\n",
    "    init.run()\n",
    "    for epoch in range(n_epochs):\n",
    "        for iter in range(len(X_train) // batch_sz):\n",
    "\n",
    "            X_batch, y_batch = X_train[iter*batch_sz: (iter+1)*batch_sz], y_train[iter*batch_sz: (iter+1)*batch_sz]\n",
    "            X_batch = X_batch.reshape(-1, n_steps, n_inputs)\n",
    "            y_batch = y_batch.reshape(-1,n_steps, 1) # added 1\n",
    "            sess.run(training_op, feed_dict={X_tf: X_batch, y_tf: y_batch})\n",
    "                \n",
    "        \n",
    "        mse_train.append(sess.run(loss, feed_dict={X_tf: X_batch, y_tf: y_batch}))\n",
    "    \n",
    "        X_test_batch = X_test.reshape(-1, n_steps, n_inputs)\n",
    "        y_test_batch = y_test.reshape(-1,n_steps,1)   \n",
    "        \n",
    "        mse_test.append(sess.run(loss, feed_dict={X_tf : X_test_batch, y_tf : y_test_batch}))\n",
    "        \n",
    "        allpredictions.append(sess.run(predictions, feed_dict={X_tf: X_test_batch}))"
   ]
  },
  {
   "cell_type": "markdown",
   "metadata": {},
   "source": [
    "# Plot Results"
   ]
  },
  {
   "cell_type": "code",
   "execution_count": 26,
   "metadata": {},
   "outputs": [
    {
     "name": "stdout",
     "output_type": "stream",
     "text": [
      "Best Test Score 0.31454462\n",
      "Epoch: 25\n"
     ]
    },
    {
     "data": {
      "image/png": "[encoded data removed]",
      "text/plain": [
       "<Figure size 432x288 with 1 Axes>"
      ]
     },
     "metadata": {},
     "output_type": "display_data"
    }
   ],
   "source": [
    "plt.plot(mse_train)\n",
    "plt.plot(mse_test)\n",
    "plt.legend(['train','test'])\n",
    "\n",
    "print(\"Best Test Score\",np.min(mse_test))\n",
    "print(\"Epoch:\",np.argmin(mse_test))"
   ]
  }
 ],
 "metadata": {
  "kernelspec": {
   "display_name": "Python 3",
   "language": "python",
   "name": "python3"
  },
  "language_info": {
   "codemirror_mode": {
    "name": "ipython",
    "version": 3
   },
   "file_extension": ".py",
   "mimetype": "text/x-python",
   "name": "python",
   "nbconvert_exporter": "python",
   "pygments_lexer": "ipython3",
   "version": "3.6.5"
  }
 },
 "nbformat": 4,
 "nbformat_minor": 2
}
